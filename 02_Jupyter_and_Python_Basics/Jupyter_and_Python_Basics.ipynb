{
 "cells": [
  {
   "cell_type": "markdown",
   "metadata": {},
   "source": [
    "# Software Engineering for Data Scientists\n",
    "\n",
    "## *Manipulating Data with Python*\n",
    "## CSE 583"
   ]
  },
  {
   "cell_type": "markdown",
   "metadata": {},
   "source": [
    "## Today's Objectives\n",
    "\n",
    "#### 1. Opening & Navigating the Jupyter Notebook\n",
    "\n",
    "#### 2. Simple Math in the Jupyter Notebook\n",
    "\n",
    "#### 3. Loading data with ``pandas``\n",
    "\n",
    "#### 4. Cleaning and Manipulating data with ``pandas``\n",
    "\n",
    "#### 5. Visualizing data with ``pandas`` & ``matplotlib``"
   ]
  },
  {
   "cell_type": "markdown",
   "metadata": {},
   "source": [
    "## 1. Opening and Navigating the IPython Notebook\n",
    "\n",
    "We will start today with the interactive environment that we will be using often through the course: the [Jupyter Notebook](http://jupyter.org).\n",
    "\n",
    "We will walk through the following steps together:\n",
    "\n",
    "1. Download [miniconda](https://conda.io/miniconda.html) (be sure to get Version 3.6) and install it on your system (hopefully you have done this before coming to class)\n",
    "   ```\n",
    "   ```\n",
    "\n",
    "2. Use the ``conda`` command-line tool to update your package listing and install the IPython notebook:\n",
    "\n",
    "   Update ``conda``'s listing of packages for your system:\n",
    "   ```\n",
    "   $ conda update conda\n",
    "   ```\n",
    "   \n",
    "   Install IPython notebook and all its requirements\n",
    "   ```\n",
    "   $ conda install jupyter notebook\n",
    "   ```\n",
    "   \n",
    "3. Navigate to a directory and download the course material. For example:\n",
    "   \n",
    "   ```\n",
    "   $ cd courses/CSE583\n",
    "   ```\n",
    "   \n",
    "   ```\n",
    "   $ curl -o Breakout-Simple-Math.ipynb https://raw.githubusercontent.com/UWSEDS/LectureNotes/master/02_Jupyter_and_Python_Basics/Breakout-Simple-Math.ipynb\n",
    "   ```\n",
    "   \n",
    "   ```\n",
    "   $ curl -o Jupyter_and_Python_Basics.ipynb https://raw.githubusercontent.com/UWSEDS/LectureNotes/master/02_Jupyter_and_Python_Basics/Jupyter_and_Python_Basics.ipynb\n",
    "   ```\n",
    "   \n",
    "   When you `ls`, you should see a number of files in the directory, including these:\n",
    "   \n",
    "   ```\n",
    "   $ ls\n",
    "   ...\n",
    "   Breakout-Simple-Math.ipynb\n",
    "   Jupyter_and_Python_Basics.ipynb\n",
    "   ...\n",
    "   ```\n",
    "\n",
    "4. Type ``jupyter notebook`` in the terminal to start the notebook\n",
    "\n",
    "   ```\n",
    "   $ jupyter notebook\n",
    "   ```\n",
    "   \n",
    "   If everything has worked correctly, it should automatically launch your default browser\n",
    "   ```\n",
    "   ```\n",
    "   \n",
    "5. Click on ``Jupyter_and_Python_Basics.ipynb`` to open the notebook containing the content for this lecture.\n",
    "\n",
    "With that, you're set up to use the Jupyter notebook!"
   ]
  },
  {
   "cell_type": "markdown",
   "metadata": {},
   "source": [
    "## 1.1 Some Theory\n",
    "- Components with the same capabilities are of the same *type*. \n",
    "  - For example, the numbers 2 and 200 are both integers.\n",
    "- A type is defined recursively. Some examples.\n",
    "  - A list is a collection of objects that can be indexed by position.\n",
    "  - A list of integers contains an integer at each position.\n",
    "- A type has a set of supported operations. For example:\n",
    "  - Integers can be added\n",
    "  - Strings can be concatented\n",
    "  - A table can find the name of its columns\n",
    "    - What type is returned from the operation?\n",
    "- In python, members (components and operations) are indicated by a '.'\n",
    "  - If `a` is a list, the `a.append(1)` adds `1` to the list."
   ]
  },
  {
   "cell_type": "code",
   "execution_count": null,
   "metadata": {},
   "outputs": [],
   "source": []
  },
  {
   "cell_type": "markdown",
   "metadata": {},
   "source": [
    "## 2. Simple Math in the Jupyter Notebook"
   ]
  },
  {
   "cell_type": "markdown",
   "metadata": {},
   "source": [
    "Now that we have the Jupyter notebook up and running, we're going to do a short breakout exploring some of the mathematical functionality that Python offers.\n",
    "\n",
    "Please open [Breakout-Simple-Math.ipynb](Breakout-Simple-Math.ipynb), find a partner, and make your way through that notebook, typing and executing code along the way."
   ]
  },
  {
   "cell_type": "markdown",
   "metadata": {},
   "source": [
    "## 3. Loading data with ``pandas``\n",
    "\n",
    "With this simple Python computation experience under our belt, we can now move to doing some more interesting analysis."
   ]
  },
  {
   "cell_type": "markdown",
   "metadata": {},
   "source": [
    "### Python's Data Science Ecosystem\n",
    "\n",
    "In addition to Python's built-in modules like the ``math`` module we explored above, there are also many often-used third-party modules that are core tools for doing data science with Python.\n",
    "Some of the most important ones are:\n",
    "\n",
    "#### [``numpy``](http://numpy.org/): Numerical Python\n",
    "\n",
    "Numpy is short for \"Numerical Python\", and contains tools for efficient manipulation of arrays of data.\n",
    "If you have used other computational tools like IDL or MatLab, Numpy should feel very familiar.\n",
    "\n",
    "#### [``scipy``](http://scipy.org/): Scientific Python\n",
    "\n",
    "Scipy is short for \"Scientific Python\", and contains a wide range of functionality for accomplishing common scientific tasks, such as optimization/minimization, numerical integration, interpolation, and much more.\n",
    "We will not look closely at Scipy today, but we will use its functionality later in the course.\n",
    "\n",
    "#### [``pandas``](http://pandas.pydata.org/): Labeled Data Manipulation in Python\n",
    "\n",
    "Pandas is short for \"Panel Data\", and contains tools for doing more advanced manipulation of labeled data in Python, in particular with a columnar data structure called a *Data Frame*.\n",
    "If you've used the [R](http://rstats.org) statistical language (and in particular the so-called \"Hadley Stack\"), much of the functionality in Pandas should feel very familiar.\n",
    "\n",
    "#### [``matplotlib``](http://matplotlib.org): Visualization in Python\n",
    "\n",
    "Matplotlib started out as a Matlab plotting clone in Python, and has grown from there in the 15 years since its creation. It is the most popular data visualization tool currently in the Python data world (though other recent packages are starting to encroach on its monopoly)."
   ]
  },
  {
   "cell_type": "markdown",
   "metadata": {},
   "source": [
    "### Installing Pandas & friends\n",
    "\n",
    "Because the above packages are not included in Python itself, you need to install them separately. While it is possible to install these from source (compiling the C and/or Fortran code that does the heavy lifting under the hood) it is much easier to use a package manager like ``conda``. All it takes is to run\n",
    "\n",
    "```\n",
    "$ conda install numpy scipy pandas matplotlib\n",
    "```\n",
    "\n",
    "and (so long as your conda setup is working) the packages will be downloaded and installed on your system."
   ]
  },
  {
   "cell_type": "markdown",
   "metadata": {},
   "source": [
    "### Downloading the data\n",
    "\n",
    "shell commands can be run from the notebook by preceding them with an exclamation point:"
   ]
  },
  {
   "cell_type": "code",
   "execution_count": 1,
   "metadata": {},
   "outputs": [
    {
     "name": "stdout",
     "output_type": "stream",
     "text": [
      "\u001b[31m(Completed)Breakout-Simple-Math.ipynb\u001b[m\u001b[m Jupyter_and_Python_Basics.ipynb\r\n",
      "Breakout-Simple-Math.ipynb\r\n"
     ]
    }
   ],
   "source": [
    "!ls"
   ]
  },
  {
   "cell_type": "markdown",
   "metadata": {},
   "source": [
    "uncomment this to download the data:"
   ]
  },
  {
   "cell_type": "code",
   "execution_count": 2,
   "metadata": {},
   "outputs": [
    {
     "name": "stdout",
     "output_type": "stream",
     "text": [
      "  % Total    % Received % Xferd  Average Speed   Time    Time     Time  Current\n",
      "                                 Dload  Upload   Total   Spent    Left  Speed\n",
      "100 42.7M    0 42.7M    0     0   939k      0 --:--:--  0:00:46 --:--:-- 1146k0:04 --:--:--  737k  0 --:--:--  0:00:44 --:--:-- 1232k\n"
     ]
    }
   ],
   "source": [
    "!curl -o pronto.csv https://data.seattle.gov/api/views/tw7j-dfaw/rows.csv?accessType=DOWNLOAD"
   ]
  },
  {
   "cell_type": "markdown",
   "metadata": {},
   "source": [
    "### Loading Data with Pandas"
   ]
  },
  {
   "cell_type": "markdown",
   "metadata": {},
   "source": [
    "Because we'll use it so much, we often import under a shortened name using the ``import ... as ...`` pattern:"
   ]
  },
  {
   "cell_type": "code",
   "execution_count": 3,
   "metadata": {},
   "outputs": [],
   "source": [
    "import pandas as pd\n",
    "df = pd.read_csv('pronto.csv')"
   ]
  },
  {
   "cell_type": "markdown",
   "metadata": {},
   "source": [
    "Now we can use the ``read_csv`` command to read the comma-separated-value data:"
   ]
  },
  {
   "cell_type": "code",
   "execution_count": null,
   "metadata": {},
   "outputs": [],
   "source": []
  },
  {
   "cell_type": "markdown",
   "metadata": {},
   "source": [
    "*Note: strings in Python can be defined either with double quotes or single quotes*"
   ]
  },
  {
   "cell_type": "markdown",
   "metadata": {},
   "source": [
    "### Viewing Pandas Dataframes"
   ]
  },
  {
   "cell_type": "markdown",
   "metadata": {},
   "source": [
    "The ``head()`` and ``tail()`` methods show us the first and last rows of the data"
   ]
  },
  {
   "cell_type": "code",
   "execution_count": 4,
   "metadata": {},
   "outputs": [
    {
     "data": {
      "text/html": [
       "<div>\n",
       "<style scoped>\n",
       "    .dataframe tbody tr th:only-of-type {\n",
       "        vertical-align: middle;\n",
       "    }\n",
       "\n",
       "    .dataframe tbody tr th {\n",
       "        vertical-align: top;\n",
       "    }\n",
       "\n",
       "    .dataframe thead th {\n",
       "        text-align: right;\n",
       "    }\n",
       "</style>\n",
       "<table border=\"1\" class=\"dataframe\">\n",
       "  <thead>\n",
       "    <tr style=\"text-align: right;\">\n",
       "      <th></th>\n",
       "      <th>trip_id</th>\n",
       "      <th>starttime</th>\n",
       "      <th>stoptime</th>\n",
       "      <th>bikeid</th>\n",
       "      <th>tripduration</th>\n",
       "      <th>from_station_name</th>\n",
       "      <th>to_station_name</th>\n",
       "      <th>from_station_id</th>\n",
       "      <th>to_station_id</th>\n",
       "      <th>usertype</th>\n",
       "      <th>gender</th>\n",
       "      <th>birthyear</th>\n",
       "    </tr>\n",
       "  </thead>\n",
       "  <tbody>\n",
       "    <tr>\n",
       "      <th>0</th>\n",
       "      <td>431</td>\n",
       "      <td>10/13/2014 10:31:00 AM</td>\n",
       "      <td>10/13/2014 10:48:00 AM</td>\n",
       "      <td>SEA00298</td>\n",
       "      <td>985.935</td>\n",
       "      <td>2nd Ave &amp; Spring St</td>\n",
       "      <td>Occidental Park / Occidental Ave S &amp; S Washing...</td>\n",
       "      <td>CBD-06</td>\n",
       "      <td>PS-04</td>\n",
       "      <td>Member</td>\n",
       "      <td>Male</td>\n",
       "      <td>1960.0</td>\n",
       "    </tr>\n",
       "    <tr>\n",
       "      <th>1</th>\n",
       "      <td>432</td>\n",
       "      <td>10/13/2014 10:32:00 AM</td>\n",
       "      <td>10/13/2014 10:48:00 AM</td>\n",
       "      <td>SEA00195</td>\n",
       "      <td>926.375</td>\n",
       "      <td>2nd Ave &amp; Spring St</td>\n",
       "      <td>Occidental Park / Occidental Ave S &amp; S Washing...</td>\n",
       "      <td>CBD-06</td>\n",
       "      <td>PS-04</td>\n",
       "      <td>Member</td>\n",
       "      <td>Male</td>\n",
       "      <td>1970.0</td>\n",
       "    </tr>\n",
       "    <tr>\n",
       "      <th>2</th>\n",
       "      <td>433</td>\n",
       "      <td>10/13/2014 10:33:00 AM</td>\n",
       "      <td>10/13/2014 10:48:00 AM</td>\n",
       "      <td>SEA00486</td>\n",
       "      <td>883.831</td>\n",
       "      <td>2nd Ave &amp; Spring St</td>\n",
       "      <td>Occidental Park / Occidental Ave S &amp; S Washing...</td>\n",
       "      <td>CBD-06</td>\n",
       "      <td>PS-04</td>\n",
       "      <td>Member</td>\n",
       "      <td>Female</td>\n",
       "      <td>1988.0</td>\n",
       "    </tr>\n",
       "    <tr>\n",
       "      <th>3</th>\n",
       "      <td>434</td>\n",
       "      <td>10/13/2014 10:34:00 AM</td>\n",
       "      <td>10/13/2014 10:48:00 AM</td>\n",
       "      <td>SEA00333</td>\n",
       "      <td>865.937</td>\n",
       "      <td>2nd Ave &amp; Spring St</td>\n",
       "      <td>Occidental Park / Occidental Ave S &amp; S Washing...</td>\n",
       "      <td>CBD-06</td>\n",
       "      <td>PS-04</td>\n",
       "      <td>Member</td>\n",
       "      <td>Female</td>\n",
       "      <td>1977.0</td>\n",
       "    </tr>\n",
       "    <tr>\n",
       "      <th>4</th>\n",
       "      <td>435</td>\n",
       "      <td>10/13/2014 10:34:00 AM</td>\n",
       "      <td>10/13/2014 10:49:00 AM</td>\n",
       "      <td>SEA00202</td>\n",
       "      <td>923.923</td>\n",
       "      <td>2nd Ave &amp; Spring St</td>\n",
       "      <td>Occidental Park / Occidental Ave S &amp; S Washing...</td>\n",
       "      <td>CBD-06</td>\n",
       "      <td>PS-04</td>\n",
       "      <td>Member</td>\n",
       "      <td>Male</td>\n",
       "      <td>1971.0</td>\n",
       "    </tr>\n",
       "  </tbody>\n",
       "</table>\n",
       "</div>"
      ],
      "text/plain": [
       "   trip_id               starttime                stoptime    bikeid  \\\n",
       "0      431  10/13/2014 10:31:00 AM  10/13/2014 10:48:00 AM  SEA00298   \n",
       "1      432  10/13/2014 10:32:00 AM  10/13/2014 10:48:00 AM  SEA00195   \n",
       "2      433  10/13/2014 10:33:00 AM  10/13/2014 10:48:00 AM  SEA00486   \n",
       "3      434  10/13/2014 10:34:00 AM  10/13/2014 10:48:00 AM  SEA00333   \n",
       "4      435  10/13/2014 10:34:00 AM  10/13/2014 10:49:00 AM  SEA00202   \n",
       "\n",
       "   tripduration    from_station_name  \\\n",
       "0       985.935  2nd Ave & Spring St   \n",
       "1       926.375  2nd Ave & Spring St   \n",
       "2       883.831  2nd Ave & Spring St   \n",
       "3       865.937  2nd Ave & Spring St   \n",
       "4       923.923  2nd Ave & Spring St   \n",
       "\n",
       "                                     to_station_name from_station_id  \\\n",
       "0  Occidental Park / Occidental Ave S & S Washing...          CBD-06   \n",
       "1  Occidental Park / Occidental Ave S & S Washing...          CBD-06   \n",
       "2  Occidental Park / Occidental Ave S & S Washing...          CBD-06   \n",
       "3  Occidental Park / Occidental Ave S & S Washing...          CBD-06   \n",
       "4  Occidental Park / Occidental Ave S & S Washing...          CBD-06   \n",
       "\n",
       "  to_station_id usertype  gender  birthyear  \n",
       "0         PS-04   Member    Male     1960.0  \n",
       "1         PS-04   Member    Male     1970.0  \n",
       "2         PS-04   Member  Female     1988.0  \n",
       "3         PS-04   Member  Female     1977.0  \n",
       "4         PS-04   Member    Male     1971.0  "
      ]
     },
     "execution_count": 4,
     "metadata": {},
     "output_type": "execute_result"
    }
   ],
   "source": [
    "df.head()"
   ]
  },
  {
   "cell_type": "code",
   "execution_count": 5,
   "metadata": {},
   "outputs": [
    {
     "data": {
      "text/plain": [
       "Index(['trip_id', 'starttime', 'stoptime', 'bikeid', 'tripduration',\n",
       "       'from_station_name', 'to_station_name', 'from_station_id',\n",
       "       'to_station_id', 'usertype', 'gender', 'birthyear'],\n",
       "      dtype='object')"
      ]
     },
     "execution_count": 5,
     "metadata": {},
     "output_type": "execute_result"
    }
   ],
   "source": [
    "df.columns"
   ]
  },
  {
   "cell_type": "code",
   "execution_count": 6,
   "metadata": {},
   "outputs": [
    {
     "data": {
      "text/html": [
       "<div>\n",
       "<style scoped>\n",
       "    .dataframe tbody tr th:only-of-type {\n",
       "        vertical-align: middle;\n",
       "    }\n",
       "\n",
       "    .dataframe tbody tr th {\n",
       "        vertical-align: top;\n",
       "    }\n",
       "\n",
       "    .dataframe thead th {\n",
       "        text-align: right;\n",
       "    }\n",
       "</style>\n",
       "<table border=\"1\" class=\"dataframe\">\n",
       "  <thead>\n",
       "    <tr style=\"text-align: right;\">\n",
       "      <th></th>\n",
       "      <th>trip_id</th>\n",
       "      <th>starttime</th>\n",
       "      <th>stoptime</th>\n",
       "      <th>bikeid</th>\n",
       "      <th>tripduration</th>\n",
       "      <th>from_station_name</th>\n",
       "      <th>to_station_name</th>\n",
       "      <th>from_station_id</th>\n",
       "      <th>to_station_id</th>\n",
       "      <th>usertype</th>\n",
       "      <th>gender</th>\n",
       "      <th>birthyear</th>\n",
       "    </tr>\n",
       "  </thead>\n",
       "  <tbody>\n",
       "    <tr>\n",
       "      <th>275086</th>\n",
       "      <td>295463</td>\n",
       "      <td>03/31/2017 11:16:00 PM</td>\n",
       "      <td>04/01/2017 02:11:00 AM</td>\n",
       "      <td>SEA00347</td>\n",
       "      <td>10487.475</td>\n",
       "      <td>NE 42nd St &amp; University Way NE</td>\n",
       "      <td>E Harrison St &amp; Broadway Ave E</td>\n",
       "      <td>UD-02</td>\n",
       "      <td>CH-02</td>\n",
       "      <td>Short-Term Pass Holder</td>\n",
       "      <td>NaN</td>\n",
       "      <td>NaN</td>\n",
       "    </tr>\n",
       "    <tr>\n",
       "      <th>275087</th>\n",
       "      <td>295464</td>\n",
       "      <td>03/31/2017 11:16:00 PM</td>\n",
       "      <td>04/01/2017 02:11:00 AM</td>\n",
       "      <td>SEA00031</td>\n",
       "      <td>10487.366</td>\n",
       "      <td>NE 42nd St &amp; University Way NE</td>\n",
       "      <td>E Harrison St &amp; Broadway Ave E</td>\n",
       "      <td>UD-02</td>\n",
       "      <td>CH-02</td>\n",
       "      <td>Member</td>\n",
       "      <td>Female</td>\n",
       "      <td>1982.0</td>\n",
       "    </tr>\n",
       "    <tr>\n",
       "      <th>275088</th>\n",
       "      <td>295465</td>\n",
       "      <td>03/31/2017 11:44:00 PM</td>\n",
       "      <td>04/01/2017 12:04:00 AM</td>\n",
       "      <td>SEA00240</td>\n",
       "      <td>1205.656</td>\n",
       "      <td>Bellevue Ave &amp; E Pine St</td>\n",
       "      <td>Lake Union Park / Westlake Ave &amp; Aloha St</td>\n",
       "      <td>CH-12</td>\n",
       "      <td>SLU-23</td>\n",
       "      <td>Member</td>\n",
       "      <td>Male</td>\n",
       "      <td>1990.0</td>\n",
       "    </tr>\n",
       "    <tr>\n",
       "      <th>275089</th>\n",
       "      <td>295466</td>\n",
       "      <td>03/31/2017 11:46:00 PM</td>\n",
       "      <td>04/01/2017 12:04:00 AM</td>\n",
       "      <td>SEA00121</td>\n",
       "      <td>1115.658</td>\n",
       "      <td>Bellevue Ave &amp; E Pine St</td>\n",
       "      <td>Lake Union Park / Westlake Ave &amp; Aloha St</td>\n",
       "      <td>CH-12</td>\n",
       "      <td>SLU-23</td>\n",
       "      <td>Member</td>\n",
       "      <td>Female</td>\n",
       "      <td>1987.0</td>\n",
       "    </tr>\n",
       "    <tr>\n",
       "      <th>275090</th>\n",
       "      <td>295467</td>\n",
       "      <td>03/31/2017 11:52:00 PM</td>\n",
       "      <td>04/01/2017 02:33:00 AM</td>\n",
       "      <td>SEA00151</td>\n",
       "      <td>9667.679</td>\n",
       "      <td>Cal Anderson Park / 11th Ave &amp; Pine St</td>\n",
       "      <td>Broadway and E Denny Way</td>\n",
       "      <td>CH-08</td>\n",
       "      <td>CH-16</td>\n",
       "      <td>Member</td>\n",
       "      <td>Male</td>\n",
       "      <td>1988.0</td>\n",
       "    </tr>\n",
       "  </tbody>\n",
       "</table>\n",
       "</div>"
      ],
      "text/plain": [
       "        trip_id               starttime                stoptime    bikeid  \\\n",
       "275086   295463  03/31/2017 11:16:00 PM  04/01/2017 02:11:00 AM  SEA00347   \n",
       "275087   295464  03/31/2017 11:16:00 PM  04/01/2017 02:11:00 AM  SEA00031   \n",
       "275088   295465  03/31/2017 11:44:00 PM  04/01/2017 12:04:00 AM  SEA00240   \n",
       "275089   295466  03/31/2017 11:46:00 PM  04/01/2017 12:04:00 AM  SEA00121   \n",
       "275090   295467  03/31/2017 11:52:00 PM  04/01/2017 02:33:00 AM  SEA00151   \n",
       "\n",
       "        tripduration                       from_station_name  \\\n",
       "275086     10487.475          NE 42nd St & University Way NE   \n",
       "275087     10487.366          NE 42nd St & University Way NE   \n",
       "275088      1205.656                Bellevue Ave & E Pine St   \n",
       "275089      1115.658                Bellevue Ave & E Pine St   \n",
       "275090      9667.679  Cal Anderson Park / 11th Ave & Pine St   \n",
       "\n",
       "                                  to_station_name from_station_id  \\\n",
       "275086             E Harrison St & Broadway Ave E           UD-02   \n",
       "275087             E Harrison St & Broadway Ave E           UD-02   \n",
       "275088  Lake Union Park / Westlake Ave & Aloha St           CH-12   \n",
       "275089  Lake Union Park / Westlake Ave & Aloha St           CH-12   \n",
       "275090                   Broadway and E Denny Way           CH-08   \n",
       "\n",
       "       to_station_id                usertype  gender  birthyear  \n",
       "275086         CH-02  Short-Term Pass Holder     NaN        NaN  \n",
       "275087         CH-02                  Member  Female     1982.0  \n",
       "275088        SLU-23                  Member    Male     1990.0  \n",
       "275089        SLU-23                  Member  Female     1987.0  \n",
       "275090         CH-16                  Member    Male     1988.0  "
      ]
     },
     "execution_count": 6,
     "metadata": {},
     "output_type": "execute_result"
    }
   ],
   "source": [
    "df.tail()"
   ]
  },
  {
   "cell_type": "markdown",
   "metadata": {},
   "source": [
    "The ``shape`` attribute shows us the number of elements:"
   ]
  },
  {
   "cell_type": "code",
   "execution_count": null,
   "metadata": {},
   "outputs": [],
   "source": [
    "df.shape"
   ]
  },
  {
   "cell_type": "markdown",
   "metadata": {},
   "source": [
    "The ``columns`` attribute gives us the column names"
   ]
  },
  {
   "cell_type": "code",
   "execution_count": null,
   "metadata": {},
   "outputs": [],
   "source": []
  },
  {
   "cell_type": "markdown",
   "metadata": {},
   "source": [
    "The ``index`` attribute gives us the index names"
   ]
  },
  {
   "cell_type": "code",
   "execution_count": null,
   "metadata": {},
   "outputs": [],
   "source": []
  },
  {
   "cell_type": "markdown",
   "metadata": {},
   "source": [
    "The ``dtypes`` attribute gives the data types of each column:"
   ]
  },
  {
   "cell_type": "code",
   "execution_count": null,
   "metadata": {},
   "outputs": [],
   "source": [
    "df.dtypes"
   ]
  },
  {
   "cell_type": "markdown",
   "metadata": {},
   "source": [
    "## 4. Manipulating data with ``pandas``\n",
    "\n",
    "Here we'll cover some key features of manipulating data with pandas"
   ]
  },
  {
   "cell_type": "markdown",
   "metadata": {},
   "source": [
    "Access columns by name using square-bracket indexing:"
   ]
  },
  {
   "cell_type": "code",
   "execution_count": null,
   "metadata": {},
   "outputs": [],
   "source": []
  },
  {
   "cell_type": "markdown",
   "metadata": {},
   "source": [
    "Mathematical operations on columns happen *element-wise*:"
   ]
  },
  {
   "cell_type": "code",
   "execution_count": null,
   "metadata": {},
   "outputs": [],
   "source": []
  },
  {
   "cell_type": "markdown",
   "metadata": {},
   "source": [
    "Columns can be created (or overwritten) with the assignment operator.\n",
    "Let's create a *tripminutes* column with the number of minutes for each trip"
   ]
  },
  {
   "cell_type": "code",
   "execution_count": null,
   "metadata": {},
   "outputs": [],
   "source": []
  },
  {
   "cell_type": "markdown",
   "metadata": {},
   "source": [
    "More complicated mathematical operations can be done with tools in the ``numpy`` package:"
   ]
  },
  {
   "cell_type": "code",
   "execution_count": null,
   "metadata": {},
   "outputs": [],
   "source": []
  },
  {
   "cell_type": "markdown",
   "metadata": {},
   "source": [
    "### Working with Times"
   ]
  },
  {
   "cell_type": "markdown",
   "metadata": {},
   "source": [
    "One trick to know when working with columns of times is that Pandas ``DateTimeIndex`` provides a nice interface for working with columns of times.\n",
    "\n",
    "For a dataset of this size, using ``pd.to_datetime`` and specifying the date format can make things much faster (from the [strftime reference](http://strftime.org/), we see that the pronto data has format ``\"%m/%d/%Y %I:%M:%S %p\"``"
   ]
  },
  {
   "cell_type": "code",
   "execution_count": null,
   "metadata": {},
   "outputs": [],
   "source": []
  },
  {
   "cell_type": "markdown",
   "metadata": {},
   "source": [
    "(Note: you can also use ``infer_datetime_format=True`` in most cases to automatically infer the correct format, though due to a bug it doesn't work when AM/PM are present)"
   ]
  },
  {
   "cell_type": "markdown",
   "metadata": {},
   "source": [
    "With it, we can extract, the hour of the day, the day of the week, the month, and a wide range of other views of the time:"
   ]
  },
  {
   "cell_type": "code",
   "execution_count": null,
   "metadata": {},
   "outputs": [],
   "source": []
  },
  {
   "cell_type": "code",
   "execution_count": null,
   "metadata": {},
   "outputs": [],
   "source": []
  },
  {
   "cell_type": "code",
   "execution_count": null,
   "metadata": {},
   "outputs": [],
   "source": []
  },
  {
   "cell_type": "markdown",
   "metadata": {},
   "source": [
    "### Simple Grouping of Data\n",
    "\n",
    "The real power of Pandas comes in its tools for grouping and aggregating data. Here we'll look at *value counts* and the basics of *group-by* operations."
   ]
  },
  {
   "cell_type": "markdown",
   "metadata": {},
   "source": [
    "#### Value Counts"
   ]
  },
  {
   "cell_type": "markdown",
   "metadata": {},
   "source": [
    "Pandas includes an array of useful functionality for manipulating and analyzing tabular data.\n",
    "We'll take a look at two of these here."
   ]
  },
  {
   "cell_type": "markdown",
   "metadata": {},
   "source": [
    "The ``pandas.value_counts`` returns statistics on the unique values within each column.\n",
    "\n",
    "We can use it, for example, to break down rides by gender:"
   ]
  },
  {
   "cell_type": "code",
   "execution_count": null,
   "metadata": {},
   "outputs": [],
   "source": []
  },
  {
   "cell_type": "markdown",
   "metadata": {},
   "source": [
    "Or to break down rides by age:"
   ]
  },
  {
   "cell_type": "code",
   "execution_count": null,
   "metadata": {},
   "outputs": [],
   "source": []
  },
  {
   "cell_type": "markdown",
   "metadata": {},
   "source": [
    "By default, the values rather than the index are sorted. Use ``sort=False`` to turn this behavior off:"
   ]
  },
  {
   "cell_type": "code",
   "execution_count": null,
   "metadata": {},
   "outputs": [],
   "source": []
  },
  {
   "cell_type": "markdown",
   "metadata": {},
   "source": [
    "We can explore other things as well: day of week, hour of day, etc."
   ]
  },
  {
   "cell_type": "code",
   "execution_count": null,
   "metadata": {},
   "outputs": [],
   "source": []
  },
  {
   "cell_type": "markdown",
   "metadata": {},
   "source": [
    "### Group-by Operation\n",
    "\n",
    "One of the killer features of the Pandas dataframe is the ability to do group-by operations.\n",
    "You can visualize the group-by like this (image borrowed from the [Python Data Science Handbook](http://shop.oreilly.com/product/0636920034919.do))"
   ]
  },
  {
   "cell_type": "code",
   "execution_count": null,
   "metadata": {},
   "outputs": [],
   "source": []
  },
  {
   "cell_type": "markdown",
   "metadata": {},
   "source": [
    "The simplest version of a groupby looks like this, and you can use almost any aggregation function you wish (mean, median, sum, minimum, maximum, standard deviation, count, etc.)\n",
    "\n",
    "```\n",
    "<data object>.groupby(<grouping values>).<aggregate>()\n",
    "```\n",
    "\n",
    "for example, we can group by gender and find the average of all numerical columns:"
   ]
  },
  {
   "cell_type": "code",
   "execution_count": null,
   "metadata": {},
   "outputs": [],
   "source": []
  },
  {
   "cell_type": "markdown",
   "metadata": {},
   "source": [
    "It's also possible to indes the grouped object like it is a dataframe:"
   ]
  },
  {
   "cell_type": "code",
   "execution_count": null,
   "metadata": {},
   "outputs": [],
   "source": []
  },
  {
   "cell_type": "markdown",
   "metadata": {},
   "source": [
    "You can even group by multiple values: for example we can look at the trip duration by time of day and by gender:"
   ]
  },
  {
   "cell_type": "code",
   "execution_count": null,
   "metadata": {},
   "outputs": [],
   "source": []
  },
  {
   "cell_type": "markdown",
   "metadata": {},
   "source": [
    "The ``unstack()`` operation can help make sense of this type of multiply-grouped data. What this technically does is split a multiple-valued index into an index plus columns:"
   ]
  },
  {
   "cell_type": "code",
   "execution_count": null,
   "metadata": {},
   "outputs": [],
   "source": []
  },
  {
   "cell_type": "markdown",
   "metadata": {},
   "source": [
    "## 5. Visualizing data with ``pandas``\n",
    "\n",
    "Of course, looking at tables of data is not very intuitive.\n",
    "Fortunately Pandas has many useful plotting functions built-in, all of which make use of the ``matplotlib`` library to generate plots.\n",
    "\n",
    "Whenever you do plotting in the IPython notebook, you will want to first run this *magic command* which configures the notebook to work well with plots:"
   ]
  },
  {
   "cell_type": "code",
   "execution_count": null,
   "metadata": {},
   "outputs": [],
   "source": [
    "%matplotlib inline"
   ]
  },
  {
   "cell_type": "markdown",
   "metadata": {},
   "source": [
    "Now we can simply call the ``plot()`` method of any series or dataframe to get a reasonable view of the data:"
   ]
  },
  {
   "cell_type": "code",
   "execution_count": null,
   "metadata": {},
   "outputs": [],
   "source": [
    "import matplotlib.pyplot as plt\n",
    "df['tripduration'].hist()"
   ]
  },
  {
   "cell_type": "markdown",
   "metadata": {},
   "source": [
    "### Adjusting the Plot Style\n",
    "\n",
    "Matplotlib has a number of plot styles you can use. For example, if you like R you might use the ggplot style:"
   ]
  },
  {
   "cell_type": "code",
   "execution_count": null,
   "metadata": {},
   "outputs": [],
   "source": []
  },
  {
   "cell_type": "markdown",
   "metadata": {},
   "source": [
    "### Other plot types\n",
    "\n",
    "Pandas supports a range of other plotting types; you can find these by using the <TAB> autocomplete on the ``plot`` method:"
   ]
  },
  {
   "cell_type": "code",
   "execution_count": null,
   "metadata": {},
   "outputs": [],
   "source": []
  },
  {
   "cell_type": "markdown",
   "metadata": {},
   "source": [
    "For example, we can create a histogram of trip durations:"
   ]
  },
  {
   "cell_type": "code",
   "execution_count": null,
   "metadata": {},
   "outputs": [],
   "source": []
  },
  {
   "cell_type": "markdown",
   "metadata": {},
   "source": [
    "If you'd like to adjust the x and y limits of the plot, you can use the ``set_xlim()`` and ``set_ylim()`` method of the resulting object:"
   ]
  },
  {
   "cell_type": "code",
   "execution_count": null,
   "metadata": {},
   "outputs": [],
   "source": [
    "\n"
   ]
  },
  {
   "cell_type": "markdown",
   "metadata": {},
   "source": [
    "## Breakout: Exploring the Data\n",
    "\n",
    "Make a plot of the total number of rides as a function of month of the year (You'll need to extract the month, use a ``groupby``, and find the appropriate aggregation to count the number in each group)."
   ]
  },
  {
   "cell_type": "code",
   "execution_count": null,
   "metadata": {},
   "outputs": [],
   "source": []
  },
  {
   "cell_type": "markdown",
   "metadata": {},
   "source": [
    "Split this plot by gender. Do you see any seasonal ridership patterns by gender?"
   ]
  },
  {
   "cell_type": "code",
   "execution_count": null,
   "metadata": {},
   "outputs": [],
   "source": []
  },
  {
   "cell_type": "markdown",
   "metadata": {},
   "source": [
    "Split this plot by user type. Do you see any seasonal ridership patterns by usertype?"
   ]
  },
  {
   "cell_type": "code",
   "execution_count": null,
   "metadata": {},
   "outputs": [],
   "source": []
  },
  {
   "cell_type": "markdown",
   "metadata": {},
   "source": [
    "Repeat the above three steps, counting the number of rides by time of day rather thatn by month."
   ]
  },
  {
   "cell_type": "code",
   "execution_count": null,
   "metadata": {},
   "outputs": [],
   "source": []
  },
  {
   "cell_type": "markdown",
   "metadata": {},
   "source": [
    "Are there any other interesting insights you can discover in the data using these tools?"
   ]
  },
  {
   "cell_type": "code",
   "execution_count": null,
   "metadata": {},
   "outputs": [],
   "source": []
  },
  {
   "cell_type": "markdown",
   "metadata": {},
   "source": [
    "## Using Files\n",
    "- Writing and running python modules\n",
    "- Using python modules in your Jupyter Notebook"
   ]
  },
  {
   "cell_type": "code",
   "execution_count": null,
   "metadata": {},
   "outputs": [],
   "source": []
  }
 ],
 "metadata": {
  "anaconda-cloud": {},
  "kernelspec": {
   "display_name": "Python 3",
   "language": "python",
   "name": "python3"
  },
  "language_info": {
   "codemirror_mode": {
    "name": "ipython",
    "version": 3
   },
   "file_extension": ".py",
   "mimetype": "text/x-python",
   "name": "python",
   "nbconvert_exporter": "python",
   "pygments_lexer": "ipython3",
   "version": "3.6.8"
  }
 },
 "nbformat": 4,
 "nbformat_minor": 1
}
